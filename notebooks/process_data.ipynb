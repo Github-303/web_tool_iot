{
 "cells": [
  {
   "cell_type": "code",
   "execution_count": 1,
   "metadata": {},
   "outputs": [
    {
     "data": {
      "text/plain": [
       "True"
      ]
     },
     "execution_count": 1,
     "metadata": {},
     "output_type": "execute_result"
    }
   ],
   "source": [
    "from langchain_experimental.agents.agent_toolkits.pandas.base import create_pandas_dataframe_agent\n",
    "import pandas as pd\n",
    "from langchain_openai import ChatOpenAI\n",
    "import matplotlib.pyplot as plt\n",
    "import seaborn as sns\n",
    "from dotenv import load_dotenv\n",
    "load_dotenv()"
   ]
  },
  {
   "cell_type": "code",
   "execution_count": 2,
   "metadata": {},
   "outputs": [
    {
     "data": {
      "text/plain": [
       "ChatOpenAI(client=<openai.resources.chat.completions.Completions object at 0x000002511605CEC0>, async_client=<openai.resources.chat.completions.AsyncCompletions object at 0x000002511624A990>, root_client=<openai.OpenAI object at 0x00000251152D5850>, root_async_client=<openai.AsyncOpenAI object at 0x0000025116248BF0>, temperature=0.0, model_kwargs={}, openai_api_key=SecretStr('**********'), max_tokens=1000)"
      ]
     },
     "execution_count": 2,
     "metadata": {},
     "output_type": "execute_result"
    }
   ],
   "source": [
    "import sys\n",
    "sys.path.append(\"C:\\\\Users\\\\Admin\\\\Desktop\\\\DACN_IOT\\\\web_iot\")\n",
    "from src.models.llms import load_llm\n",
    "MODEL_NAME = \"gpt-4o-mini\"\n",
    "llm = load_llm(model_name=MODEL_NAME)\n",
    "llm"
   ]
  },
  {
   "cell_type": "code",
   "execution_count": 3,
   "metadata": {},
   "outputs": [
    {
     "data": {
      "text/plain": [
       "AIMessage(content='Hello! I am a language model AI trained to have conversations and assist with various tasks. How can I help you today?', additional_kwargs={'refusal': None}, response_metadata={'token_usage': {'completion_tokens': 25, 'prompt_tokens': 13, 'total_tokens': 38, 'completion_tokens_details': {'accepted_prediction_tokens': 0, 'audio_tokens': 0, 'reasoning_tokens': 0, 'rejected_prediction_tokens': 0}, 'prompt_tokens_details': {'audio_tokens': 0, 'cached_tokens': 0}}, 'model_name': 'gpt-3.5-turbo-0125', 'system_fingerprint': None, 'finish_reason': 'stop', 'logprobs': None}, id='run-1b4981e5-04dc-49ae-af0b-35a38c8a46ac-0', usage_metadata={'input_tokens': 13, 'output_tokens': 25, 'total_tokens': 38, 'input_token_details': {'audio': 0, 'cache_read': 0}, 'output_token_details': {'audio': 0, 'reasoning': 0}})"
      ]
     },
     "execution_count": 3,
     "metadata": {},
     "output_type": "execute_result"
    }
   ],
   "source": [
    "llm.invoke(\"Hello. Who are you?\")"
   ]
  },
  {
   "cell_type": "code",
   "execution_count": 4,
   "metadata": {},
   "outputs": [
    {
     "data": {
      "text/plain": [
       "AgentExecutor(verbose=True, agent=RunnableMultiActionAgent(runnable=RunnableAssign(mapper={\n",
       "  agent_scratchpad: RunnableLambda(lambda x: message_formatter(x['intermediate_steps']))\n",
       "})\n",
       "| ChatPromptTemplate(input_variables=['agent_scratchpad', 'input'], input_types={'agent_scratchpad': list[typing.Annotated[typing.Union[typing.Annotated[langchain_core.messages.ai.AIMessage, Tag(tag='ai')], typing.Annotated[langchain_core.messages.human.HumanMessage, Tag(tag='human')], typing.Annotated[langchain_core.messages.chat.ChatMessage, Tag(tag='chat')], typing.Annotated[langchain_core.messages.system.SystemMessage, Tag(tag='system')], typing.Annotated[langchain_core.messages.function.FunctionMessage, Tag(tag='function')], typing.Annotated[langchain_core.messages.tool.ToolMessage, Tag(tag='tool')], typing.Annotated[langchain_core.messages.ai.AIMessageChunk, Tag(tag='AIMessageChunk')], typing.Annotated[langchain_core.messages.human.HumanMessageChunk, Tag(tag='HumanMessageChunk')], typing.Annotated[langchain_core.messages.chat.ChatMessageChunk, Tag(tag='ChatMessageChunk')], typing.Annotated[langchain_core.messages.system.SystemMessageChunk, Tag(tag='SystemMessageChunk')], typing.Annotated[langchain_core.messages.function.FunctionMessageChunk, Tag(tag='FunctionMessageChunk')], typing.Annotated[langchain_core.messages.tool.ToolMessageChunk, Tag(tag='ToolMessageChunk')]], FieldInfo(annotation=NoneType, required=True, discriminator=Discriminator(discriminator=<function _get_type at 0x000002517F6D5440>, custom_error_type=None, custom_error_message=None, custom_error_context=None))]]}, partial_variables={}, messages=[SystemMessage(content='\\nYou are working with a pandas dataframe in Python. The name of the dataframe is `df`.\\nThis is the result of `print(df.head())`:\\n|    |   0 | tcp   | private   | REJ   |   0.1 |   0.2 |   0.3 |   0.4 |   0.5 |   0.6 |   0.7 |   0.8 |   0.9 |   0.10 |   0.11 |   0.12 |   0.13 |   0.14 |   0.15 |   0.16 |   0.17 |   0.18 |   229 |   10 |   0.19 |   0.20 |   1 |   1.1 |   0.04 |   0.06 |   0.21 |   255 |   10.1 |   0.04.1 |   0.06.1 |   0.22 |   0.23 |   0.24 |   0.25 |   1.2 |   1.3 | neptune   |\\n|---:|----:|:------|:----------|:------|------:|------:|------:|------:|------:|------:|------:|------:|------:|-------:|-------:|-------:|-------:|-------:|-------:|-------:|-------:|-------:|------:|-----:|-------:|-------:|----:|------:|-------:|-------:|-------:|------:|-------:|---------:|---------:|-------:|-------:|-------:|-------:|------:|------:|:----------|\\n|  0 |   0 | tcp   | private   | REJ   |     0 |     0 |     0 |     0 |     0 |     0 |     0 |     0 |     0 |      0 |      0 |      0 |      0 |      0 |      0 |      0 |      0 |      0 |   136 |    1 |      0 |   0    |   1 |   1   |   0.01 |   0.06 |   0    |   255 |      1 |     0    |     0.06 |   0    |   0    |   0    |      0 |  1    |  1    | neptune   |\\n|  1 |   2 | tcp   | ftp_data  | SF    | 12983 |     0 |     0 |     0 |     0 |     0 |     0 |     0 |     0 |      0 |      0 |      0 |      0 |      0 |      0 |      0 |      0 |      0 |     1 |    1 |      0 |   0    |   0 |   0   |   1    |   0    |   0    |   134 |     86 |     0.61 |     0.04 |   0.61 |   0.02 |   0    |      0 |  0    |  0    | normal    |\\n|  2 |   0 | icmp  | eco_i     | SF    |    20 |     0 |     0 |     0 |     0 |     0 |     0 |     0 |     0 |      0 |      0 |      0 |      0 |      0 |      0 |      0 |      0 |      0 |     1 |   65 |      0 |   0    |   0 |   0   |   1    |   0    |   1    |     3 |     57 |     1    |     0    |   1    |   0.28 |   0    |      0 |  0    |  0    | saint     |\\n|  3 |   1 | tcp   | telnet    | RSTO  |     0 |    15 |     0 |     0 |     0 |     0 |     0 |     0 |     0 |      0 |      0 |      0 |      0 |      0 |      0 |      0 |      0 |      0 |     1 |    8 |      0 |   0.12 |   1 |   0.5 |   1    |   0    |   0.75 |    29 |     86 |     0.31 |     0.17 |   0.03 |   0.02 |   0    |      0 |  0.83 |  0.71 | mscan     |\\n|  4 |   0 | tcp   | http      | SF    |   267 | 14515 |     0 |     0 |     0 |     0 |     0 |     1 |     0 |      0 |      0 |      0 |      0 |      0 |      0 |      0 |      0 |      0 |     4 |    4 |      0 |   0    |   0 |   0   |   1    |   0    |   0    |   155 |    255 |     1    |     0    |   0.01 |   0.03 |   0.01 |      0 |  0    |  0    | normal    |', additional_kwargs={}, response_metadata={}), HumanMessagePromptTemplate(prompt=PromptTemplate(input_variables=['input'], input_types={}, partial_variables={}, template='{input}'), additional_kwargs={}), MessagesPlaceholder(variable_name='agent_scratchpad')])\n",
       "| RunnableBinding(bound=ChatOpenAI(client=<openai.resources.chat.completions.Completions object at 0x000002511605CEC0>, async_client=<openai.resources.chat.completions.AsyncCompletions object at 0x000002511624A990>, root_client=<openai.OpenAI object at 0x00000251152D5850>, root_async_client=<openai.AsyncOpenAI object at 0x0000025116248BF0>, temperature=0.0, model_kwargs={}, openai_api_key=SecretStr('**********'), max_tokens=1000), kwargs={'tools': [{'type': 'function', 'function': {'name': 'python_repl_ast', 'description': 'A Python shell. Use this to execute python commands. Input should be a valid python command. When using this tool, sometimes output is abbreviated - make sure it does not look abbreviated before using it in your answer.', 'parameters': {'properties': {'query': {'description': 'code snippet to run', 'type': 'string'}}, 'required': ['query'], 'type': 'object'}}}]}, config={}, config_factories=[])\n",
       "| ToolsAgentOutputParser(), input_keys_arg=['input'], return_keys_arg=['output'], stream_runnable=True), tools=[PythonAstREPLTool(globals={}, locals={'df':        0   tcp   private   REJ    0.1    0.2  0.3  0.4  0.5  0.6  0.7  0.8  \\\n",
       "0      0   tcp   private   REJ      0      0    0    0    0    0    0    0   \n",
       "1      2   tcp  ftp_data    SF  12983      0    0    0    0    0    0    0   \n",
       "2      0  icmp     eco_i    SF     20      0    0    0    0    0    0    0   \n",
       "3      1   tcp    telnet  RSTO      0     15    0    0    0    0    0    0   \n",
       "4      0   tcp      http    SF    267  14515    0    0    0    0    0    1   \n",
       "...   ..   ...       ...   ...    ...    ...  ...  ...  ...  ...  ...  ...   \n",
       "22538  0   tcp      smtp    SF    794    333    0    0    0    0    0    1   \n",
       "22539  0   tcp      http    SF    317    938    0    0    0    0    0    1   \n",
       "22540  0   tcp      http    SF  54540   8314    0    0    0    2    0    1   \n",
       "22541  0   udp  domain_u    SF     42     42    0    0    0    0    0    0   \n",
       "22542  0   tcp    sunrpc   REJ      0      0    0    0    0    0    0    0   \n",
       "\n",
       "       0.9  0.10  0.11  0.12  0.13  0.14  0.15  0.16  0.17  0.18  229  10  \\\n",
       "0        0     0     0     0     0     0     0     0     0     0  136   1   \n",
       "1        0     0     0     0     0     0     0     0     0     0    1   1   \n",
       "2        0     0     0     0     0     0     0     0     0     0    1  65   \n",
       "3        0     0     0     0     0     0     0     0     0     0    1   8   \n",
       "4        0     0     0     0     0     0     0     0     0     0    4   4   \n",
       "...    ...   ...   ...   ...   ...   ...   ...   ...   ...   ...  ...  ..   \n",
       "22538    0     0     0     0     0     0     0     0     0     0    1   1   \n",
       "22539    0     0     0     0     0     0     0     0     0     0    2  11   \n",
       "22540    1     0     0     0     0     0     0     0     0     0    5  10   \n",
       "22541    0     0     0     0     0     0     0     0     0     0    4   6   \n",
       "22542    0     0     0     0     0     0     0     0     0     0    4  10   \n",
       "\n",
       "       0.19  0.20    1  1.1  0.04  0.06  0.21  255  10.1  0.04.1  0.06.1  \\\n",
       "0       0.0  0.00  1.0  1.0  0.01  0.06  0.00  255     1    0.00    0.06   \n",
       "1       0.0  0.00  0.0  0.0  1.00  0.00  0.00  134    86    0.61    0.04   \n",
       "2       0.0  0.00  0.0  0.0  1.00  0.00  1.00    3    57    1.00    0.00   \n",
       "3       0.0  0.12  1.0  0.5  1.00  0.00  0.75   29    86    0.31    0.17   \n",
       "4       0.0  0.00  0.0  0.0  1.00  0.00  0.00  155   255    1.00    0.00   \n",
       "...     ...   ...  ...  ...   ...   ...   ...  ...   ...     ...     ...   \n",
       "22538   0.0  0.00  0.0  0.0  1.00  0.00  0.00  100   141    0.72    0.06   \n",
       "22539   0.0  0.00  0.0  0.0  1.00  0.00  0.18  197   255    1.00    0.00   \n",
       "22540   0.0  0.00  0.0  0.0  1.00  0.00  0.20  255   255    1.00    0.00   \n",
       "22541   0.0  0.00  0.0  0.0  1.00  0.00  0.33  255   252    0.99    0.01   \n",
       "22542   0.0  0.00  1.0  1.0  0.25  1.00  1.00  255    21    0.08    0.03   \n",
       "\n",
       "       0.22  0.23  0.24  0.25   1.2   1.3  neptune  \n",
       "0      0.00  0.00  0.00   0.0  1.00  1.00  neptune  \n",
       "1      0.61  0.02  0.00   0.0  0.00  0.00   normal  \n",
       "2      1.00  0.28  0.00   0.0  0.00  0.00    saint  \n",
       "3      0.03  0.02  0.00   0.0  0.83  0.71    mscan  \n",
       "4      0.01  0.03  0.01   0.0  0.00  0.00   normal  \n",
       "...     ...   ...   ...   ...   ...   ...      ...  \n",
       "22538  0.01  0.01  0.01   0.0  0.00  0.00   normal  \n",
       "22539  0.01  0.01  0.01   0.0  0.00  0.00   normal  \n",
       "22540  0.00  0.00  0.00   0.0  0.07  0.07     back  \n",
       "22541  0.00  0.00  0.00   0.0  0.00  0.00   normal  \n",
       "22542  0.00  0.00  0.00   0.0  0.44  1.00    mscan  \n",
       "\n",
       "[22543 rows x 42 columns]})], return_intermediate_steps=True)"
      ]
     },
     "execution_count": 4,
     "metadata": {},
     "output_type": "execute_result"
    }
   ],
   "source": [
    "df = pd.read_csv(\"C:\\\\Users\\\\Admin\\\\Desktop\\\\DACN_IOT\\\\web_iot\\\\data\\\\raw\\\\NSL_KDD_Test.csv\")\n",
    "da_agent = create_pandas_dataframe_agent(\n",
    "        llm = llm, \n",
    "        df = df, \n",
    "        agent_type=\"tool-calling\",\n",
    "        allow_dangerous_code=True,\n",
    "        verbose=True,\n",
    "        return_intermediate_steps=True\n",
    "    )\n",
    "da_agent"
   ]
  },
  {
   "cell_type": "code",
   "execution_count": 7,
   "metadata": {},
   "outputs": [
    {
     "name": "stdout",
     "output_type": "stream",
     "text": [
      "\n",
      "\n",
      "\u001b[1m> Entering new AgentExecutor chain...\u001b[0m\n",
      "\u001b[32;1m\u001b[1;3m\n",
      "Invoking: `python_repl_ast` with `{'query': 'df.info()'}`\n",
      "\n",
      "\n",
      "\u001b[0m\u001b[36;1m\u001b[1;3m<class 'pandas.core.frame.DataFrame'>\n",
      "RangeIndex: 22543 entries, 0 to 22542\n",
      "Data columns (total 42 columns):\n",
      " #   Column   Non-Null Count  Dtype  \n",
      "---  ------   --------------  -----  \n",
      " 0   0        22543 non-null  int64  \n",
      " 1   tcp      22543 non-null  object \n",
      " 2   private  22543 non-null  object \n",
      " 3   REJ      22543 non-null  object \n",
      " 4   0.1      22543 non-null  int64  \n",
      " 5   0.2      22543 non-null  int64  \n",
      " 6   0.3      22543 non-null  int64  \n",
      " 7   0.4      22543 non-null  int64  \n",
      " 8   0.5      22543 non-null  int64  \n",
      " 9   0.6      22543 non-null  int64  \n",
      " 10  0.7      22543 non-null  int64  \n",
      " 11  0.8      22543 non-null  int64  \n",
      " 12  0.9      22543 non-null  int64  \n",
      " 13  0.10     22543 non-null  int64  \n",
      " 14  0.11     22543 non-null  int64  \n",
      " 15  0.12     22543 non-null  int64  \n",
      " 16  0.13     22543 non-null  int64  \n",
      " 17  0.14     22543 non-null  int64  \n",
      " 18  0.15     22543 non-null  int64  \n",
      " 19  0.16     22543 non-null  int64  \n",
      " 20  0.17     22543 non-null  int64  \n",
      " 21  0.18     22543 non-null  int64  \n",
      " 22  229      22543 non-null  int64  \n",
      " 23  10       22543 non-null  int64  \n",
      " 24  0.19     22543 non-null  float64\n",
      " 25  0.20     22543 non-null  float64\n",
      " 26  1        22543 non-null  float64\n",
      " 27  1.1      22543 non-null  float64\n",
      " 28  0.04     22543 non-null  float64\n",
      " 29  0.06     22543 non-null  float64\n",
      " 30  0.21     22543 non-null  float64\n",
      " 31  255      22543 non-null  int64  \n",
      " 32  10.1     22543 non-null  int64  \n",
      " 33  0.04.1   22543 non-null  float64\n",
      " 34  0.06.1   22543 non-null  float64\n",
      " 35  0.22     22543 non-null  float64\n",
      " 36  0.23     22543 non-null  float64\n",
      " 37  0.24     22543 non-null  float64\n",
      " 38  0.25     22543 non-null  float64\n",
      " 39  1.2      22543 non-null  float64\n",
      " 40  1.3      22543 non-null  float64\n",
      " 41  neptune  22543 non-null  object \n",
      "dtypes: float64(15), int64(23), object(4)\n",
      "memory usage: 7.2+ MB\n",
      "\u001b[0m\u001b[32;1m\u001b[1;3mThe dataset contains 22543 entries and 42 columns. Here are some details about the columns:\n",
      "- There are 4 columns with data type 'object', 23 columns with data type 'int64', and 15 columns with data type 'float64'.\n",
      "- The columns have names like '0', 'tcp', 'private', 'REJ', '0.1', '0.2', etc.\n",
      "- The memory usage of the dataset is 7.2+ MB.\u001b[0m\n",
      "\n",
      "\u001b[1m> Finished chain.\u001b[0m\n"
     ]
    }
   ],
   "source": [
    "query = \"Describe details of the dataset\"\n",
    "response = da_agent(query)"
   ]
  },
  {
   "cell_type": "code",
   "execution_count": null,
   "metadata": {},
   "outputs": [],
   "source": [
    "query = \"Hãy vẽ ma trận tương quan\"\n",
    "response = da_agent(query)"
   ]
  },
  {
   "cell_type": "code",
   "execution_count": 13,
   "metadata": {},
   "outputs": [
    {
     "name": "stdout",
     "output_type": "stream",
     "text": [
      "df.info()\n"
     ]
    }
   ],
   "source": [
    "print(response[\"intermediate_steps\"][-1][0].tool_input[\"query\"])"
   ]
  }
 ],
 "metadata": {
  "kernelspec": {
   "display_name": "Python 3",
   "language": "python",
   "name": "python3"
  },
  "language_info": {
   "codemirror_mode": {
    "name": "ipython",
    "version": 3
   },
   "file_extension": ".py",
   "mimetype": "text/x-python",
   "name": "python",
   "nbconvert_exporter": "python",
   "pygments_lexer": "ipython3",
   "version": "3.12.5"
  }
 },
 "nbformat": 4,
 "nbformat_minor": 2
}
